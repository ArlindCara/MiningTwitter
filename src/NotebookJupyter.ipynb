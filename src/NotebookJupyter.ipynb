{
 "cells": [
  {
   "cell_type": "code",
   "execution_count": 1,
   "metadata": {},
   "outputs": [
    {
     "name": "stdout",
     "output_type": "stream",
     "text": [
      "Requirement already satisfied: websocket-client in /srv/conda/envs/notebook/lib/python3.6/site-packages (0.57.0)\n",
      "Requirement already satisfied: six in /srv/conda/envs/notebook/lib/python3.6/site-packages (from websocket-client) (1.15.0)\n",
      "Requirement already satisfied: ibm-cos-sdk in /srv/conda/envs/notebook/lib/python3.6/site-packages (2.7.0)\n",
      "Requirement already satisfied: ibm-cos-sdk-core==2.7.0 in /srv/conda/envs/notebook/lib/python3.6/site-packages (from ibm-cos-sdk) (2.7.0)\n",
      "Requirement already satisfied: jmespath<1.0.0,>=0.7.1 in /srv/conda/envs/notebook/lib/python3.6/site-packages (from ibm-cos-sdk) (0.10.0)\n",
      "Requirement already satisfied: ibm-cos-sdk-s3transfer==2.7.0 in /srv/conda/envs/notebook/lib/python3.6/site-packages (from ibm-cos-sdk) (2.7.0)\n",
      "Requirement already satisfied: docutils<0.16,>=0.10 in /srv/conda/envs/notebook/lib/python3.6/site-packages (from ibm-cos-sdk-core==2.7.0->ibm-cos-sdk) (0.15.2)\n",
      "Requirement already satisfied: python-dateutil<3.0.0,>=2.1 in /srv/conda/envs/notebook/lib/python3.6/site-packages (from ibm-cos-sdk-core==2.7.0->ibm-cos-sdk) (2.8.1)\n",
      "Requirement already satisfied: requests<3.0,>=2.18 in /srv/conda/envs/notebook/lib/python3.6/site-packages (from ibm-cos-sdk-core==2.7.0->ibm-cos-sdk) (2.23.0)\n",
      "Requirement already satisfied: six>=1.5 in /srv/conda/envs/notebook/lib/python3.6/site-packages (from python-dateutil<3.0.0,>=2.1->ibm-cos-sdk-core==2.7.0->ibm-cos-sdk) (1.15.0)\n",
      "Requirement already satisfied: certifi>=2017.4.17 in /srv/conda/envs/notebook/lib/python3.6/site-packages (from requests<3.0,>=2.18->ibm-cos-sdk-core==2.7.0->ibm-cos-sdk) (2020.6.20)\n",
      "Requirement already satisfied: chardet<4,>=3.0.2 in /srv/conda/envs/notebook/lib/python3.6/site-packages (from requests<3.0,>=2.18->ibm-cos-sdk-core==2.7.0->ibm-cos-sdk) (3.0.4)\n",
      "Requirement already satisfied: idna<3,>=2.5 in /srv/conda/envs/notebook/lib/python3.6/site-packages (from requests<3.0,>=2.18->ibm-cos-sdk-core==2.7.0->ibm-cos-sdk) (2.9)\n",
      "Requirement already satisfied: urllib3!=1.25.0,!=1.25.1,<1.26,>=1.21.1 in /srv/conda/envs/notebook/lib/python3.6/site-packages (from requests<3.0,>=2.18->ibm-cos-sdk-core==2.7.0->ibm-cos-sdk) (1.25.9)\n",
      "Requirement already satisfied: tweepy in /srv/conda/envs/notebook/lib/python3.6/site-packages (3.9.0)\n",
      "Requirement already satisfied: requests[socks]>=2.11.1 in /srv/conda/envs/notebook/lib/python3.6/site-packages (from tweepy) (2.23.0)\n",
      "Requirement already satisfied: six>=1.10.0 in /srv/conda/envs/notebook/lib/python3.6/site-packages (from tweepy) (1.15.0)\n",
      "Requirement already satisfied: requests-oauthlib>=0.7.0 in /srv/conda/envs/notebook/lib/python3.6/site-packages (from tweepy) (1.3.0)\n",
      "Requirement already satisfied: idna<3,>=2.5 in /srv/conda/envs/notebook/lib/python3.6/site-packages (from requests[socks]>=2.11.1->tweepy) (2.9)\n",
      "Requirement already satisfied: chardet<4,>=3.0.2 in /srv/conda/envs/notebook/lib/python3.6/site-packages (from requests[socks]>=2.11.1->tweepy) (3.0.4)\n",
      "Requirement already satisfied: certifi>=2017.4.17 in /srv/conda/envs/notebook/lib/python3.6/site-packages (from requests[socks]>=2.11.1->tweepy) (2020.6.20)\n",
      "Requirement already satisfied: urllib3!=1.25.0,!=1.25.1,<1.26,>=1.21.1 in /srv/conda/envs/notebook/lib/python3.6/site-packages (from requests[socks]>=2.11.1->tweepy) (1.25.9)\n",
      "Requirement already satisfied: PySocks!=1.5.7,>=1.5.6; extra == \"socks\" in /srv/conda/envs/notebook/lib/python3.6/site-packages (from requests[socks]>=2.11.1->tweepy) (1.7.1)\n",
      "Requirement already satisfied: oauthlib>=3.0.0 in /srv/conda/envs/notebook/lib/python3.6/site-packages (from requests-oauthlib>=0.7.0->tweepy) (3.0.1)\n",
      "Requirement already satisfied: textblob in /srv/conda/envs/notebook/lib/python3.6/site-packages (0.15.3)\n",
      "Requirement already satisfied: nltk>=3.1 in /srv/conda/envs/notebook/lib/python3.6/site-packages (from textblob) (3.5)\n",
      "Requirement already satisfied: regex in /srv/conda/envs/notebook/lib/python3.6/site-packages (from nltk>=3.1->textblob) (2020.7.14)\n",
      "Requirement already satisfied: joblib in /srv/conda/envs/notebook/lib/python3.6/site-packages (from nltk>=3.1->textblob) (0.16.0)\n",
      "Requirement already satisfied: click in /srv/conda/envs/notebook/lib/python3.6/site-packages (from nltk>=3.1->textblob) (7.1.2)\n",
      "Requirement already satisfied: tqdm in /srv/conda/envs/notebook/lib/python3.6/site-packages (from nltk>=3.1->textblob) (4.48.2)\n"
     ]
    }
   ],
   "source": [
    "# -----Installazione di tutti gli strumenti e librerie utili per eseguire il codice-----\n",
    "\n",
    "!pip install websocket-client\n",
    "!pip install ibm-cos-sdk\n",
    "! pip install tweepy\n",
    "! pip install textblob\n",
    "\n",
    "import pandas as pd\n",
    "import json, types\n",
    "import websocket\n",
    "import _thread\n",
    "import time\n",
    "import ibm_boto3\n",
    "import codecs\n",
    "import tweepy \n",
    "import numpy as np\n",
    "import re\n",
    "import matplotlib.pyplot as plt\n",
    "\n",
    "from io import StringIO\n",
    "from textblob import TextBlob\n",
    "\n",
    "\n",
    "#  -----Twitter API credentials-----\n",
    "# Modificare le seguenti variabili con le proprie chiavi\n",
    "consumer_key = \"consumer_key\"\n",
    "consumer_secret = \"consumer_secret\"\n",
    "access_key = \"access_key-w8eY4gMKp1tlH5gTuQXpvwjSQTGYpS\"\n",
    "access_secret = \"access_secret\"\n",
    "OAUTH_KEYS = {'consumer_key':consumer_key, 'consumer_secret':consumer_secret,\n",
    " 'access_token_key':access_key, 'access_token_secret':access_secret}\n",
    "auth = tweepy.OAuthHandler(OAUTH_KEYS['consumer_key'], OAUTH_KEYS['consumer_secret'])\n",
    "auth.set_access_token(access_key, access_secret)\n",
    "api = tweepy.API(auth, wait_on_rate_limit=True, wait_on_rate_limit_notify=True)\n"
   ]
  },
  {
   "cell_type": "code",
   "execution_count": 2,
   "metadata": {},
   "outputs": [],
   "source": [
    "# # # # TWITTER CLIENT # # # #\n",
    "#Classe i cui attributi sono API Twitter, le credenziali dell'autenticazione\n",
    "#il nome dell'utente\n",
    "class TwitterClient():\n",
    "    def __init__(self, twitter_user=None):\n",
    "        self.auth = auth\n",
    "        self.twitter_client = api\n",
    "\n",
    "        self.twitter_user = twitter_user\n",
    "    \n",
    "    #Return twetter api\n",
    "    def get_twitter_client_api(self):\n",
    "        return self.twitter_client\n",
    "    \n",
    "    #Returns the num_tweets most recent statuses by specific user, including retweets, posted by the authenticating user and that user’s friends.\n",
    "    def get_user_timeline_tweets(self, num_tweets,hashtag):\n",
    "        tweets = []\n",
    "        for tweet in tweepy.Cursor(self.twitter_client.user_timeline, q=hashtag,id=self.twitter_user, tweet_mode='extended').items(num_tweets):\n",
    "            tweets.append(tweet)\n",
    "            print(tweet)\n",
    "        return tweets\n",
    "    \n",
    "     #Returns the num_tweets most recent statuses by specific user, including retweets, posted by the authenticating user and that user’s friends.\n",
    "    def get_hashtag_timeline_tweets(self, num_tweets,hashtag):\n",
    "        tweets = []\n",
    "        for tweet in tweepy.Cursor(self.twitter_client.search, q=hashtag, tweet_mode='extended', include_rts = False).items(num_tweets):\n",
    "            tweets.append(tweet)\n",
    "            print(tweet)\n",
    "        return tweets\n"
   ]
  },
  {
   "cell_type": "code",
   "execution_count": 3,
   "metadata": {},
   "outputs": [],
   "source": [
    "#classe che permette di raccogliere e analizzare ed effettuare il mining dei tweet\n",
    "#a cui viene passato un oggetto tweet client\n",
    "class TweetAnalyzer():\n",
    "    def __init__(self, twitter_client):\n",
    "        self.twitter_client = twitter_client\n",
    "    \"\"\"\n",
    "    Functionality for analyzing and categorizing content from tweets.\n",
    "    \"\"\"\n",
    "    #metodo che rimuove i informazioni non necessarie e pulisce il tweet da caratteri non utili\n",
    "    def clean_tweet(self, tweet):\n",
    "        return ' '.join(re.sub(\"(@[A-Za-z0-9]+)|([^0-9A-Za-z \\t])|(\\w+:\\/\\/\\S+)\", \" \", tweet).split())\n",
    "\n",
    "    #metodo per eseguire la sentiment analyzis\n",
    "    def analyze_sentiment(self, tweet):\n",
    "        analysis = TextBlob(self.clean_tweet(tweet))\n",
    "        \n",
    "        if analysis.sentiment.polarity > 0:\n",
    "            return 1\n",
    "        elif analysis.sentiment.polarity == 0:\n",
    "            return 0\n",
    "        else:\n",
    "            return -1\n",
    "    \n",
    "    #All possible attribute\n",
    "    \"\"\"\n",
    "    ['__class__', '__delattr__', '__dict__', '__dir__', '__doc__', '__eq__', '__format__', '__ge__', '__getattribute__', \n",
    "    '__getstate__', '__gt__', '__hash__', '__init__', '__init_subclass__', '__le__', '__lt__', '__module__', '__ne__', '__new__', \n",
    "    '__reduce__', '__reduce_ex__', '__repr__', '__setattr__', '__sizeof__', '__str__', '__subclasshook__', '__weakref__', '_api', \n",
    "    '_json', 'author', 'contributors', 'coordinates', 'created_at', 'destroy', 'entities', 'favorite', 'favorite_count', 'favorited', \n",
    "    'geo', 'id', 'id_str', 'in_reply_to_screen_name', 'in_reply_to_status_id', 'in_reply_to_status_id_str', 'in_reply_to_user_id', \n",
    "    'in_reply_to_user_id_str', 'is_quote_status', 'lang', 'parse', 'parse_list', 'place', 'possibly_sensitive', 'retweet', 'retweet_count', \n",
    "    'retweeted', 'retweets', 'source', 'source_url', 'text', 'truncated', 'user']\n",
    "    \"\"\"\n",
    "    #metodo per trasformare i tweet dal formato fornito al froamto dataframe\n",
    "    def tweets_to_data_frame(self, tweets):\n",
    "        #df = pd.DataFrame(data=[tweet.full_text for tweet in tweets], columns=['tweets'])\n",
    "        \n",
    "        result_t = []\n",
    "        for tweet in tweets:\n",
    "            try:\n",
    "                result_t += [tweet.retweeted_status.full_text]\n",
    "            except AttributeError: # Not a Retweet\n",
    "                result_t += [tweet.full_text]\n",
    "\n",
    "            \n",
    "        #Creato un array che rappresentano le varie colone della tabella con i tweet raccolti\n",
    "        \n",
    "        df = pd.DataFrame(data=result_t, columns=['tweets'])\n",
    "        #id tweet\n",
    "        df['id'] = np.array([tweet.id for tweet in tweets])\n",
    "        #length of text\n",
    "        df['len'] = np.array([len(tweet.full_text) for tweet in tweets])\n",
    "        #data tweet\n",
    "        df['date'] = np.array([tweet.created_at for tweet in tweets])\n",
    "        #sorgente del tweet\n",
    "        df['source'] = np.array([tweet.source for tweet in tweets])\n",
    "        #numero di like del tweet\n",
    "        df['likes'] = np.array([tweet.favorite_count for tweet in tweets])\n",
    "        #number of retweets\n",
    "        df['retweets'] = np.array([tweet.retweet_count for tweet in tweets])\n",
    "        \n",
    "        #All possible attribute of a user\n",
    "        \"\"\"\n",
    "        'created_at', 'default_profile', 'default_profile_image', 'description', 'entities', 'favourites_count', 'follow', \n",
    "        'follow_request_sent', 'followers', 'followers_count', 'followers_ids', 'following', 'friends', 'friends_count', 'geo_enabled', \n",
    "        'has_extended_profile', 'id', 'id_str', 'is_translation_enabled', 'is_translator', 'lang', 'listed_count', 'lists', \n",
    "        'lists_memberships', 'lists_subscriptions', 'location', 'name'\n",
    "        \"\"\"\n",
    "         \n",
    "        user_data = [tweet.user for tweet in tweets]\n",
    "        #nome utente di cui si esegue la ricerca\n",
    "        df['name'] = np.array([user_tweet.name for user_tweet in user_data])\n",
    "        #descrizione profilo utente cercato\n",
    "        df['description'] = np.array([user_tweet.description for user_tweet in user_data])\n",
    "        #location del tweet in cui è stato fatto\n",
    "        df['location'] = np.array([user_tweet.location for user_tweet in user_data])\n",
    "        #data in cui è stato creato l'account\n",
    "        df['created_at'] = np.array([user_tweet.created_at for user_tweet in user_data])\n",
    "        #numero di follower del profilo\n",
    "        df['followers_count'] = np.array([user_tweet.followers_count for user_tweet in user_data])\n",
    "        df['friends_count'] = np.array([user_tweet.friends_count for user_tweet in user_data])\n",
    "        #booleano per indicare se si segue o meno tale profilo\n",
    "        df['following'] = np.array([user_tweet.following for user_tweet in user_data])\n",
    "            \n",
    "            \n",
    "\n",
    "        return df"
   ]
  },
  {
   "cell_type": "code",
   "execution_count": 4,
   "metadata": {},
   "outputs": [],
   "source": [
    "#Metodo del websocket che permette di ricevere le richieste da front-end e a seconda della richiesta\n",
    "#elabora una risposta adeguata alla richiesta\n",
    "#---Sono presenti 2 comandi \"MINING\" e \"MININGHASHTAG\"\n",
    "#Il primo per eseguire la ricerca su di uno specifico utente \n",
    "#La seconda su tweet con un particolare hashtag o parola chiave\n",
    "def on_message(ws, message):\n",
    "    print(message)\n",
    "    msg = json.loads(message)\n",
    "    cmd = msg['cmd']\n",
    "    if cmd == 'MINING':\n",
    "        user = msg['user']\n",
    "        \n",
    "        numTweet = int(msg['numTweet'])\n",
    "        hashtag = msg['hashtag']\n",
    "        twitter_client = TwitterClient(user)\n",
    "        tweet_analyzer = TweetAnalyzer(twitter_client)\n",
    "        #Tweets_filter\n",
    "        tweets = twitter_client.get_user_timeline_tweets(numTweet,hashtag)\n",
    "\n",
    "        #From json to DataFrame\n",
    "        df = tweet_analyzer.tweets_to_data_frame(tweets)\n",
    "\n",
    "        #Sentiment Analysis\n",
    "        df['sentiment'] = np.array([tweet_analyzer.analyze_sentiment(tweet) for tweet in df['tweets']])\n",
    "        out = df.to_json(orient='records')\n",
    "        #print(df.head(numTweet))\n",
    "        responsejson = {}\n",
    "        responsejson['forcmd']='MINING'\n",
    "        responsejson['response']= out\n",
    "        ws.send(json.dumps(responsejson))\n",
    "    if cmd == 'MININGHASHTAG':\n",
    "        numTweet = int(msg['numTweet'])\n",
    "        hashtag = msg['hashtag']\n",
    "        twitter_client = TwitterClient()\n",
    "        tweet_analyzer = TweetAnalyzer(twitter_client)\n",
    "        #Tweets_filter\n",
    "        tweets = twitter_client.get_hashtag_timeline_tweets(numTweet,hashtag)\n",
    "\n",
    "        #From json to DataFrame\n",
    "        df = tweet_analyzer.tweets_to_data_frame(tweets)\n",
    "\n",
    "        #Sentiment Analysis\n",
    "        df['sentiment'] = np.array([tweet_analyzer.analyze_sentiment(tweet) for tweet in df['tweets']])\n",
    "        out = df.to_json(orient='records')\n",
    "        #print(df.head(numTweet))\n",
    "        responsejson = {}\n",
    "        responsejson['forcmd']='MININGHASHTAG'\n",
    "        responsejson['response']= out\n",
    "        ws.send(json.dumps(responsejson))\n",
    "\n",
    "#Metodi per gestire gli errori\n",
    "def on_error(ws, error):\n",
    "    print(error)\n",
    "\n",
    "def on_close(ws):\n",
    "    ws.send(\"MiningTwitter BackEnd Closed\")\n",
    "\n",
    "def on_open(ws):\n",
    "    def run(*args):\n",
    "        for i in range(10000):\n",
    "            hbeat = '{\"cmd\":\"MiningTwitter BackEnd Connected\"}'\n",
    "            ws.send(hbeat)\n",
    "            time.sleep(100)\n",
    "            \n",
    "    _thread.start_new_thread(run, ())\n",
    "\n",
    "# Metodo che apre websocket in ascolto e si collega \n",
    "def start_websocket_listener():\n",
    "    websocket.enableTrace(True)\n",
    "    ws = websocket.WebSocketApp(\"ws://Node-Red-Url\",\n",
    "                              on_message = on_message,\n",
    "                              on_error = on_error,\n",
    "                              on_close = on_close)\n",
    "    ws.on_open = on_open\n",
    "    ws.run_forever()"
   ]
  },
  {
   "cell_type": "code",
   "execution_count": null,
   "metadata": {
    "scrolled": false
   },
   "outputs": [
    {
     "name": "stderr",
     "output_type": "stream",
     "text": [
      "--- request header ---\n",
      "GET /ws/orchestrate HTTP/1.1\n",
      "Upgrade: websocket\n",
      "Host: node-red-kwxyx-2020-08-25.eu-gb.mybluemix.net\n",
      "Origin: http://node-red-kwxyx-2020-08-25.eu-gb.mybluemix.net\n",
      "Sec-WebSocket-Key: GRT1pHmrmEqFpbJYz/puuQ==\n",
      "Sec-WebSocket-Version: 13\n",
      "Connection: upgrade\n",
      "\n",
      "\n",
      "-----------------------\n",
      "--- response header ---\n",
      "HTTP/1.1 101 Switching Protocols\n",
      "Connection: Upgrade\n",
      "Sec-WebSocket-Accept: UxUGUqCV6TBrWE9Yeo3WurTUYsw=\n",
      "Date: Thu, 03 Sep 2020 13:19:58 GMT\n",
      "X-Global-Transaction-ID: 5ed21c225f50ed7eed0339cd\n",
      "Upgrade: websocket\n",
      "-----------------------\n",
      "send: b\"\\x81\\xa9*\\x07\\xef\\xafQ%\\x8c\\xc2N%\\xd5\\x8dgn\\x81\\xc6D`\\xbb\\xd8Cs\\x9b\\xcaX'\\xad\\xceIl\\xaa\\xc1N'\\xac\\xc0Di\\x8a\\xcc^b\\x8b\\x8dW\"\n"
     ]
    },
    {
     "name": "stdout",
     "output_type": "stream",
     "text": [
      "{\"cmd\":\"MiningTwitter BackEnd Connected\"}\n"
     ]
    },
    {
     "name": "stderr",
     "output_type": "stream",
     "text": [
      "send: b'\\x81\\xa9\\xd59\\x88\\x82\\xae\\x1b\\xeb\\xef\\xb1\\x1b\\xb2\\xa0\\x98P\\xe6\\xeb\\xbb^\\xdc\\xf5\\xbcM\\xfc\\xe7\\xa7\\x19\\xca\\xe3\\xb6R\\xcd\\xec\\xb1\\x19\\xcb\\xed\\xbbW\\xed\\xe1\\xa1\\\\\\xec\\xa0\\xa8'\n"
     ]
    },
    {
     "name": "stdout",
     "output_type": "stream",
     "text": [
      "{\"cmd\":\"MiningTwitter BackEnd Connected\"}\n"
     ]
    },
    {
     "name": "stderr",
     "output_type": "stream",
     "text": [
      "send: b'\\x81\\xa9\\xacZ\\xc3\\xf6\\xd7x\\xa0\\x9b\\xc8x\\xf9\\xd4\\xe13\\xad\\x9f\\xc2=\\x97\\x81\\xc5.\\xb7\\x93\\xdez\\x81\\x97\\xcf1\\x86\\x98\\xc8z\\x80\\x99\\xc24\\xa6\\x95\\xd8?\\xa7\\xd4\\xd1'\n"
     ]
    },
    {
     "name": "stdout",
     "output_type": "stream",
     "text": [
      "{\"cmd\":\"MiningTwitter BackEnd Connected\"}\n"
     ]
    },
    {
     "name": "stderr",
     "output_type": "stream",
     "text": [
      "send: b'\\x81\\xa9\\xe1\\xe1\\xd6|\\x9a\\xc3\\xb5\\x11\\x85\\xc3\\xec^\\xac\\x88\\xb8\\x15\\x8f\\x86\\x82\\x0b\\x88\\x95\\xa2\\x19\\x93\\xc1\\x94\\x1d\\x82\\x8a\\x93\\x12\\x85\\xc1\\x95\\x13\\x8f\\x8f\\xb3\\x1f\\x95\\x84\\xb2^\\x9c'\n"
     ]
    },
    {
     "name": "stdout",
     "output_type": "stream",
     "text": [
      "{\"cmd\":\"MiningTwitter BackEnd Connected\"}\n"
     ]
    },
    {
     "name": "stderr",
     "output_type": "stream",
     "text": [
      "send: b'\\x81\\xa9\\n\\x91!\\x17q\\xb3Bzn\\xb3\\x1b5G\\xf8O~d\\xf6u`c\\xe5Urx\\xb1cvi\\xfadyn\\xb1bxd\\xffDt~\\xf4E5w'\n"
     ]
    },
    {
     "name": "stdout",
     "output_type": "stream",
     "text": [
      "{\"cmd\":\"MiningTwitter BackEnd Connected\"}\n"
     ]
    },
    {
     "name": "stderr",
     "output_type": "stream",
     "text": [
      "send: b'\\x81\\xa9F\\xff\\x1b\\t=\\xddxd\"\\xdd!+\\x0b\\x96u`(\\x98O~/\\x8bol4\\xdfYh%\\x94^g\"\\xdfXf(\\x91~j2\\x9a\\x7f+;'\n"
     ]
    },
    {
     "name": "stdout",
     "output_type": "stream",
     "text": [
      "{\"cmd\":\"MiningTwitter BackEnd Connected\"}\n"
     ]
    },
    {
     "name": "stderr",
     "output_type": "stream",
     "text": [
      "send: b'\\x81\\xa9\\x9c\\xc6\\xacL\\xe7\\xe4\\xcf!\\xf8\\xe4\\x96n\\xd1\\xaf\\xc2%\\xf2\\xa1\\xf8;\\xf5\\xb2\\xd8)\\xee\\xe6\\xee-\\xff\\xad\\xe9\"\\xf8\\xe6\\xef#\\xf2\\xa8\\xc9/\\xe8\\xa3\\xc8n\\xe1'\n"
     ]
    },
    {
     "name": "stdout",
     "output_type": "stream",
     "text": [
      "{\"cmd\":\"MiningTwitter BackEnd Connected\"}\n"
     ]
    },
    {
     "name": "stderr",
     "output_type": "stream",
     "text": [
      "send: b'\\x81\\xa9\\xce\\x90\\xca\\xfd\\xb5\\xb2\\xa9\\x90\\xaa\\xb2\\xf0\\xdf\\x83\\xf9\\xa4\\x94\\xa0\\xf7\\x9e\\x8a\\xa7\\xe4\\xbe\\x98\\xbc\\xb0\\x88\\x9c\\xad\\xfb\\x8f\\x93\\xaa\\xb0\\x89\\x92\\xa0\\xfe\\xaf\\x9e\\xba\\xf5\\xae\\xdf\\xb3'\n"
     ]
    },
    {
     "name": "stdout",
     "output_type": "stream",
     "text": [
      "{\"cmd\":\"MiningTwitter BackEnd Connected\"}\n"
     ]
    },
    {
     "name": "stderr",
     "output_type": "stream",
     "text": [
      "send: b'\\x81\\xa9\\x08f\\xdb1sD\\xb8\\\\lD\\xe1\\x13E\\x0f\\xb5Xf\\x01\\x8fFa\\x12\\xafTzF\\x99Pk\\r\\x9e_lF\\x98^f\\x08\\xbeR|\\x03\\xbf\\x13u'\n"
     ]
    },
    {
     "name": "stdout",
     "output_type": "stream",
     "text": [
      "{\"cmd\":\"MiningTwitter BackEnd Connected\"}\n"
     ]
    },
    {
     "name": "stderr",
     "output_type": "stream",
     "text": [
      "send: b'\\x81\\xa9J\\xa8\\xa4{1\\x8a\\xc7\\x16.\\x8a\\x9eY\\x07\\xc1\\xca\\x12$\\xcf\\xf0\\x0c#\\xdc\\xd0\\x1e8\\x88\\xe6\\x1a)\\xc3\\xe1\\x15.\\x88\\xe7\\x14$\\xc6\\xc1\\x18>\\xcd\\xc0Y7'\n"
     ]
    },
    {
     "name": "stdout",
     "output_type": "stream",
     "text": [
      "{\"cmd\":\"MiningTwitter BackEnd Connected\"}\n"
     ]
    },
    {
     "name": "stderr",
     "output_type": "stream",
     "text": [
      "send: b'\\x81\\xa9&\\x8d\\x01\\xcd]\\xafb\\xa0B\\xaf;\\xefk\\xe4o\\xa4H\\xeaU\\xbaO\\xf9u\\xa8T\\xadC\\xacE\\xe6D\\xa3B\\xadB\\xa2H\\xe3d\\xaeR\\xe8e\\xef['\n"
     ]
    },
    {
     "name": "stdout",
     "output_type": "stream",
     "text": [
      "{\"cmd\":\"MiningTwitter BackEnd Connected\"}\n"
     ]
    },
    {
     "name": "stderr",
     "output_type": "stream",
     "text": [
      "send: b'\\x81\\xa9o^\\x00!\\x14|cL\\x0b|:\\x03\"7nH\\x019TV\\x06*tD\\x1d~B@\\x0c5EO\\x0b~CN\\x010eB\\x1b;d\\x03\\x12'\n"
     ]
    },
    {
     "name": "stdout",
     "output_type": "stream",
     "text": [
      "{\"cmd\":\"MiningTwitter BackEnd Connected\"}\n"
     ]
    },
    {
     "name": "stderr",
     "output_type": "stream",
     "text": [
      "send: b'\\x81\\xa9I\\x07`72%\\x03Z-%Z\\x15\\x04n\\x0e^\\'`4@ s\\x14R;\\'\"V*l%Y-\\'#X\\'i\\x05T=b\\x04\\x154'\n"
     ]
    },
    {
     "name": "stdout",
     "output_type": "stream",
     "text": [
      "{\"cmd\":\"MiningTwitter BackEnd Connected\"}\n"
     ]
    },
    {
     "name": "stderr",
     "output_type": "stream",
     "text": [
      "send: b'\\x81\\xa9\\xf41\\xfa\\xcf\\x8f\\x13\\x99\\xa2\\x90\\x13\\xc0\\xed\\xb9X\\x94\\xa6\\x9aV\\xae\\xb8\\x9dE\\x8e\\xaa\\x86\\x11\\xb8\\xae\\x97Z\\xbf\\xa1\\x90\\x11\\xb9\\xa0\\x9a_\\x9f\\xac\\x80T\\x9e\\xed\\x89'\n"
     ]
    },
    {
     "name": "stdout",
     "output_type": "stream",
     "text": [
      "{\"cmd\":\"MiningTwitter BackEnd Connected\"}\n"
     ]
    },
    {
     "name": "stderr",
     "output_type": "stream",
     "text": [
      "send: b'\\x81\\xa9\\x9e9J\\x9d\\xe5\\x1b)\\xf0\\xfa\\x1bp\\xbf\\xd3P$\\xf4\\xf0^\\x1e\\xea\\xf7M>\\xf8\\xec\\x19\\x08\\xfc\\xfdR\\x0f\\xf3\\xfa\\x19\\t\\xf2\\xf0W/\\xfe\\xea\\\\.\\xbf\\xe3'\n"
     ]
    },
    {
     "name": "stdout",
     "output_type": "stream",
     "text": [
      "{\"cmd\":\"MiningTwitter BackEnd Connected\"}\n"
     ]
    },
    {
     "name": "stderr",
     "output_type": "stream",
     "text": [
      "send: b'\\x81\\xa9\\x1a\\xe1\\x011a\\xc3b\\\\~\\xc3;\\x13W\\x88oXt\\x86UFs\\x95uTh\\xc1CPy\\x8aD_~\\xc1B^t\\x8fdRn\\x84e\\x13g'\n"
     ]
    },
    {
     "name": "stdout",
     "output_type": "stream",
     "text": [
      "{\"cmd\":\"MiningTwitter BackEnd Connected\"}\n"
     ]
    },
    {
     "name": "stderr",
     "output_type": "stream",
     "text": [
      "send: b\"\\x81\\xa9\\xf79S@\\x8c\\x1b0-\\x93\\x1bib\\xbaP=)\\x99^\\x077\\x9eM'%\\x85\\x19\\x11!\\x94R\\x16.\\x93\\x19\\x10/\\x99W6#\\x83\\\\7b\\x8a\"\n"
     ]
    },
    {
     "name": "stdout",
     "output_type": "stream",
     "text": [
      "{\"cmd\":\"MiningTwitter BackEnd Connected\"}\n"
     ]
    },
    {
     "name": "stderr",
     "output_type": "stream",
     "text": [
      "send: b'\\x81\\xa9\\x0eaq\\xb1uC\\x12\\xdcjCK\\x93C\\x08\\x1f\\xd8`\\x06%\\xc6g\\x15\\x05\\xd4|A3\\xd0m\\n4\\xdfjA2\\xde`\\x0f\\x14\\xd2z\\x04\\x15\\x93s'\n"
     ]
    },
    {
     "name": "stdout",
     "output_type": "stream",
     "text": [
      "{\"cmd\":\"MiningTwitter BackEnd Connected\"}\n"
     ]
    },
    {
     "name": "stderr",
     "output_type": "stream",
     "text": [
      "send: b'\\x81\\xa9\\x86l\\xee?\\xfdN\\x8dR\\xe2N\\xd4\\x1d\\xcb\\x05\\x80V\\xe8\\x0b\\xbaH\\xef\\x18\\x9aZ\\xf4L\\xac^\\xe5\\x07\\xabQ\\xe2L\\xadP\\xe8\\x02\\x8b\\\\\\xf2\\t\\x8a\\x1d\\xfb'\n"
     ]
    },
    {
     "name": "stdout",
     "output_type": "stream",
     "text": [
      "{\"cmd\":\"MiningTwitter BackEnd Connected\"}\n"
     ]
    },
    {
     "name": "stderr",
     "output_type": "stream",
     "text": [
      "send: b\"\\x81\\xa9\\xd5iWI\\xaeK4$\\xb1Kmk\\x98\\x009 \\xbb\\x0e\\x03>\\xbc\\x1d#,\\xa7I\\x15(\\xb6\\x02\\x12'\\xb1I\\x14&\\xbb\\x072*\\xa1\\x0c3k\\xa8\"\n"
     ]
    },
    {
     "name": "stdout",
     "output_type": "stream",
     "text": [
      "{\"cmd\":\"MiningTwitter BackEnd Connected\"}\n"
     ]
    },
    {
     "name": "stderr",
     "output_type": "stream",
     "text": [
      "send: b'\\x81\\xa9|\\xa8\\x17m\\x07\\x8at\\x00\\x18\\x8a-O1\\xc1y\\x04\\x12\\xcfC\\x1a\\x15\\xdcc\\x08\\x0e\\x88U\\x0c\\x1f\\xc3R\\x03\\x18\\x88T\\x02\\x12\\xc6r\\x0e\\x08\\xcdsO\\x01'\n"
     ]
    },
    {
     "name": "stdout",
     "output_type": "stream",
     "text": [
      "{\"cmd\":\"MiningTwitter BackEnd Connected\"}\n"
     ]
    },
    {
     "name": "stderr",
     "output_type": "stream",
     "text": [
      "send: b'\\x81\\xa9\\x9f\\xf0\\x8d\\xbf\\xe4\\xd2\\xee\\xd2\\xfb\\xd2\\xb7\\x9d\\xd2\\x99\\xe3\\xd6\\xf1\\x97\\xd9\\xc8\\xf6\\x84\\xf9\\xda\\xed\\xd0\\xcf\\xde\\xfc\\x9b\\xc8\\xd1\\xfb\\xd0\\xce\\xd0\\xf1\\x9e\\xe8\\xdc\\xeb\\x95\\xe9\\x9d\\xe2'\n"
     ]
    },
    {
     "name": "stdout",
     "output_type": "stream",
     "text": [
      "{\"cmd\":\"MiningTwitter BackEnd Connected\"}\n"
     ]
    },
    {
     "name": "stderr",
     "output_type": "stream",
     "text": [
      "send: b'\\x81\\xa9\\xe3\\xcag\\xdb\\x98\\xe8\\x04\\xb6\\x87\\xe8]\\xf9\\xae\\xa3\\t\\xb2\\x8d\\xad3\\xac\\x8a\\xbe\\x13\\xbe\\x91\\xea%\\xba\\x80\\xa1\"\\xb5\\x87\\xea$\\xb4\\x8d\\xa4\\x02\\xb8\\x97\\xaf\\x03\\xf9\\x9e'\n"
     ]
    },
    {
     "name": "stdout",
     "output_type": "stream",
     "text": [
      "{\"cmd\":\"MiningTwitter BackEnd Connected\"}\n"
     ]
    },
    {
     "name": "stderr",
     "output_type": "stream",
     "text": [
      "send: b'\\x81\\xa9\\x8a\\xb2\\xd0\\x7f\\xf1\\x90\\xb3\\x12\\xee\\x90\\xea]\\xc7\\xdb\\xbe\\x16\\xe4\\xd5\\x84\\x08\\xe3\\xc6\\xa4\\x1a\\xf8\\x92\\x92\\x1e\\xe9\\xd9\\x95\\x11\\xee\\x92\\x93\\x10\\xe4\\xdc\\xb5\\x1c\\xfe\\xd7\\xb4]\\xf7'\n"
     ]
    },
    {
     "name": "stdout",
     "output_type": "stream",
     "text": [
      "{\"cmd\":\"MiningTwitter BackEnd Connected\"}\n"
     ]
    },
    {
     "name": "stderr",
     "output_type": "stream",
     "text": [
      "send: b\"\\x81\\xa9\\xaa\\\\\\xceP\\xd1~\\xad=\\xce~\\xf4r\\xe75\\xa09\\xc4;\\x9a'\\xc3(\\xba5\\xd8|\\x8c1\\xc97\\x8b>\\xce|\\x8d?\\xc42\\xab3\\xde9\\xaar\\xd7\"\n"
     ]
    },
    {
     "name": "stdout",
     "output_type": "stream",
     "text": [
      "{\"cmd\":\"MiningTwitter BackEnd Connected\"}\n"
     ]
    },
    {
     "name": "stderr",
     "output_type": "stream",
     "text": [
      "send: b'\\x81\\xa9\\x18\\xdd\\x9cfc\\xff\\xff\\x0b|\\xff\\xa6DU\\xb4\\xf2\\x0fv\\xba\\xc8\\x11q\\xa9\\xe8\\x03j\\xfd\\xde\\x07{\\xb6\\xd9\\x08|\\xfd\\xdf\\tv\\xb3\\xf9\\x05l\\xb8\\xf8De'\n"
     ]
    },
    {
     "name": "stdout",
     "output_type": "stream",
     "text": [
      "{\"cmd\":\"MiningTwitter BackEnd Connected\"}\n"
     ]
    },
    {
     "name": "stderr",
     "output_type": "stream",
     "text": [
      "send: b'\\x81\\xa9h\\x8b\\xbd3\\x13\\xa9\\xde^\\x0c\\xa9\\x87\\x11%\\xe2\\xd3Z\\x06\\xec\\xe9D\\x01\\xff\\xc9V\\x1a\\xab\\xffR\\x0b\\xe0\\xf8]\\x0c\\xab\\xfe\\\\\\x06\\xe5\\xd8P\\x1c\\xee\\xd9\\x11\\x15'\n"
     ]
    },
    {
     "name": "stdout",
     "output_type": "stream",
     "text": [
      "{\"cmd\":\"MiningTwitter BackEnd Connected\"}\n"
     ]
    },
    {
     "name": "stderr",
     "output_type": "stream",
     "text": [
      "send: b'\\x81\\xa9\\xf8\\xc8\\xb0=\\x83\\xea\\xd3P\\x9c\\xea\\x8a\\x1f\\xb5\\xa1\\xdeT\\x96\\xaf\\xe4J\\x91\\xbc\\xc4X\\x8a\\xe8\\xf2\\\\\\x9b\\xa3\\xf5S\\x9c\\xe8\\xf3R\\x96\\xa6\\xd5^\\x8c\\xad\\xd4\\x1f\\x85'\n"
     ]
    },
    {
     "name": "stdout",
     "output_type": "stream",
     "text": [
      "{\"cmd\":\"MiningTwitter BackEnd Connected\"}\n"
     ]
    },
    {
     "name": "stderr",
     "output_type": "stream",
     "text": [
      "send: b'\\x81\\xa9\\x84\\n\\xe8?\\xff(\\x8bR\\xe0(\\xd2\\x1d\\xc9c\\x86V\\xeam\\xbcH\\xed~\\x9cZ\\xf6*\\xaa^\\xe7a\\xadQ\\xe0*\\xabP\\xead\\x8d\\\\\\xf0o\\x8c\\x1d\\xf9'\n"
     ]
    },
    {
     "name": "stdout",
     "output_type": "stream",
     "text": [
      "{\"cmd\":\"MiningTwitter BackEnd Connected\"}\n"
     ]
    },
    {
     "name": "stderr",
     "output_type": "stream",
     "text": [
      "send: b'\\x81\\xa9\\xdf\\xddo\\xb2\\xa4\\xff\\x0c\\xdf\\xbb\\xffU\\x90\\x92\\xb4\\x01\\xdb\\xb1\\xba;\\xc5\\xb6\\xa9\\x1b\\xd7\\xad\\xfd-\\xd3\\xbc\\xb6*\\xdc\\xbb\\xfd,\\xdd\\xb1\\xb3\\n\\xd1\\xab\\xb8\\x0b\\x90\\xa2'\n"
     ]
    },
    {
     "name": "stdout",
     "output_type": "stream",
     "text": [
      "{\"cmd\":\"MiningTwitter BackEnd Connected\"}\n"
     ]
    },
    {
     "name": "stderr",
     "output_type": "stream",
     "text": [
      "send: b'\\x81\\xa9}\\xdb\\xa6t\\x06\\xf9\\xc5\\x19\\x19\\xf9\\x9cV0\\xb2\\xc8\\x1d\\x13\\xbc\\xf2\\x03\\x14\\xaf\\xd2\\x11\\x0f\\xfb\\xe4\\x15\\x1e\\xb0\\xe3\\x1a\\x19\\xfb\\xe5\\x1b\\x13\\xb5\\xc3\\x17\\t\\xbe\\xc2V\\x00'\n"
     ]
    },
    {
     "name": "stdout",
     "output_type": "stream",
     "text": [
      "{\"cmd\":\"MiningTwitter BackEnd Connected\"}\n"
     ]
    },
    {
     "name": "stderr",
     "output_type": "stream",
     "text": [
      "send: b'\\x81\\xa9\\xb8\\xf5Gd\\xc3\\xd7$\\t\\xdc\\xd7}F\\xf5\\x9c)\\r\\xd6\\x92\\x13\\x13\\xd1\\x813\\x01\\xca\\xd5\\x05\\x05\\xdb\\x9e\\x02\\n\\xdc\\xd5\\x04\\x0b\\xd6\\x9b\"\\x07\\xcc\\x90#F\\xc5'\n"
     ]
    },
    {
     "name": "stdout",
     "output_type": "stream",
     "text": [
      "{\"cmd\":\"MiningTwitter BackEnd Connected\"}\n"
     ]
    },
    {
     "name": "stderr",
     "output_type": "stream",
     "text": [
      "send: b'\\x81\\xa9\\x86C*S\\xfdaI>\\xe2a\\x10q\\xcb*D:\\xe8$~$\\xef7^6\\xf4ch2\\xe5(o=\\xe2ci<\\xe8-O0\\xf2&Nq\\xfb'\n"
     ]
    },
    {
     "name": "stdout",
     "output_type": "stream",
     "text": [
      "{\"cmd\":\"MiningTwitter BackEnd Connected\"}\n"
     ]
    },
    {
     "name": "stderr",
     "output_type": "stream",
     "text": [
      "send: b'\\x81\\xa9nA\\x8b\\xef\\x15c\\xe8\\x82\\nc\\xb1\\xcd#(\\xe5\\x86\\x00&\\xdf\\x98\\x075\\xff\\x8a\\x1ca\\xc9\\x8e\\r*\\xce\\x81\\na\\xc8\\x80\\x00/\\xee\\x8c\\x1a$\\xef\\xcd\\x13'\n"
     ]
    },
    {
     "name": "stdout",
     "output_type": "stream",
     "text": [
      "{\"cmd\":\"MiningTwitter BackEnd Connected\"}\n"
     ]
    }
   ],
   "source": [
    "#Chiamo la funzione start_websocket_listener e mi metto in ascolto\n",
    "start_websocket_listener()"
   ]
  }
 ],
 "metadata": {
  "kernelspec": {
   "display_name": "Python 3",
   "language": "python",
   "name": "python3"
  },
  "language_info": {
   "codemirror_mode": {
    "name": "ipython",
    "version": 3
   },
   "file_extension": ".py",
   "mimetype": "text/x-python",
   "name": "python",
   "nbconvert_exporter": "python",
   "pygments_lexer": "ipython3",
   "version": "3.6.10"
  }
 },
 "nbformat": 4,
 "nbformat_minor": 2
}
